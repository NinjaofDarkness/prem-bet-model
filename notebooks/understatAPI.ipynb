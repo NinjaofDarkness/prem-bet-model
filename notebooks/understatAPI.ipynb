{
 "cells": [
  {
   "cell_type": "markdown",
   "id": "aa01b630",
   "metadata": {},
   "source": [
    "understat - 2015-2024 Matches + Season team stats"
   ]
  },
  {
   "cell_type": "code",
   "execution_count": null,
   "id": "bcf4ee37",
   "metadata": {},
   "outputs": [],
   "source": [
    "import pandas as pd\n",
    "import ast\n",
    "from understatapi import UnderstatClient"
   ]
  },
  {
   "cell_type": "code",
   "execution_count": null,
   "id": "d8b1b34f",
   "metadata": {},
   "outputs": [],
   "source": [
    "# Configuration parameters\n",
    "START_YEAR = 2015\n",
    "END_YEAR = 2024"
   ]
  },
  {
   "cell_type": "code",
   "execution_count": null,
   "id": "daf9b197",
   "metadata": {},
   "outputs": [],
   "source": [
    "# Initialize Understat client\n",
    "client = UnderstatClient()"
   ]
  },
  {
   "cell_type": "code",
   "execution_count": null,
   "id": "4ea5d56f",
   "metadata": {},
   "outputs": [],
   "source": [
    "# Initialize lists to store data\n",
    "match_data_all = []\n",
    "team_data_all = []"
   ]
  },
  {
   "cell_type": "code",
   "execution_count": null,
   "id": "4666bc86",
   "metadata": {},
   "outputs": [],
   "source": [
    "# Fetch match data for each season\n",
    "for year in range(START_YEAR, END_YEAR + 1):\n",
    "    try:\n",
    "        # Fetch match data for the season\n",
    "        match_data = client.league('EPL').get_match_data(season=str(year))\n",
    "        \n",
    "        # Add season info to each match\n",
    "        for match in match_data:\n",
    "            match['season'] = year\n",
    "        \n",
    "        # Add to overall collection\n",
    "        match_data_all.extend(match_data)\n",
    "        \n",
    "    except Exception as e:\n",
    "        print(f\"   Error fetching match data for {year}: {e}\")\n",
    "        continue\n",
    "\n",
    "df_matches = pd.json_normalize(match_data_all, sep='_')\n",
    "# print(df_matches.head())"
   ]
  },
  {
   "cell_type": "code",
   "execution_count": null,
   "id": "28127245",
   "metadata": {},
   "outputs": [],
   "source": [
    "# Fetch team data for each season\n",
    "for year in range(START_YEAR, END_YEAR + 1):\n",
    "    \n",
    "    try:\n",
    "        # Fetch team data for the season\n",
    "        team_data = client.league('EPL').get_team_data(season=str(year))\n",
    "        \n",
    "        # Process team data\n",
    "        for team_name, stats in team_data.items():\n",
    "            stats['season'] = year\n",
    "            stats['team_name'] = team_name\n",
    "            team_data_all.append(stats)\n",
    "        \n",
    "    except Exception as e:\n",
    "        print(f\"   Error fetching team data for {year}: {e}\")\n",
    "        continue\n",
    "\n",
    "df_teams = pd.DataFrame(team_data_all)\n",
    "# print(df_teams.head())"
   ]
  },
  {
   "cell_type": "code",
   "execution_count": null,
   "id": "0bf89bf0",
   "metadata": {},
   "outputs": [],
   "source": [
    "# Match team IDs to home match titles to ensure correct team names.\n",
    "id_title_map = (\n",
    "    df_matches[['h_id', 'h_title']]\n",
    "    .dropna()\n",
    "    .drop_duplicates(subset='h_id')\n",
    "    .set_index('h_id')['h_title']\n",
    "    .to_dict()\n",
    ")\n",
    "\n",
    "df_teams['title'] = df_teams['id'].map(id_title_map)"
   ]
  },
  {
   "cell_type": "code",
   "execution_count": null,
   "id": "7813577b",
   "metadata": {},
   "outputs": [],
   "source": [
    "summary_rows = []\n",
    "\n",
    "for _, row in df_teams.iterrows():\n",
    "    team_id = row.get('id')\n",
    "    title = row.get('title')\n",
    "    season = row.get('season')\n",
    "    history = row.get('history')\n",
    "\n",
    "    if isinstance(history, str):\n",
    "        history = ast.literal_eval(history)\n",
    "\n",
    "    total_goals = sum(match.get('scored', 0) for match in history)\n",
    "    total_conceded = sum(match.get('missed', 0) for match in history)\n",
    "    total_xG = sum(match.get('xG', 0) for match in history)\n",
    "    total_xGA = sum(match.get('xGA', 0) for match in history)\n",
    "    total_pts = sum(match.get('pts', 0) for match in history)\n",
    "    total_xpts = sum(match.get('xpts', 0) for match in history)\n",
    "\n",
    "    summary_rows.append({\n",
    "        'id': team_id,\n",
    "        'title': title,\n",
    "        'season': season,\n",
    "        'goals': total_goals,\n",
    "        'conceded': total_conceded,\n",
    "        'xG': round(total_xG, 2),\n",
    "        'xGA': round(total_xGA, 2),\n",
    "        'pts': total_pts,\n",
    "        'xpts': round(total_xpts, 2)\n",
    "    })\n",
    "\n",
    "df_summary = pd.DataFrame(summary_rows)\n",
    "\n",
    "# Drop duplicates based on 'id', 'xG', and 'xGA'\n",
    "df_summary = df_summary.drop_duplicates(subset=['id', 'xG', 'xGA'])\n",
    "print(df_summary)"
   ]
  },
  {
   "cell_type": "code",
   "execution_count": null,
   "id": "b0b7a2a4",
   "metadata": {},
   "outputs": [],
   "source": [
    "print(df_matches.columns, df_summary.columns)"
   ]
  },
  {
   "cell_type": "markdown",
   "id": "f39a4576",
   "metadata": {},
   "source": [
    "clubelo - Elo Rankings by team in matches df"
   ]
  },
  {
   "cell_type": "code",
   "execution_count": null,
   "id": "27c7d124",
   "metadata": {},
   "outputs": [],
   "source": [
    "# Create a unique list of home team titles in df_matches\n",
    "unique_h_titles = df_matches['h_title'].dropna().unique().tolist()\n",
    "print('Unique home team titles:', unique_h_titles)\n",
    "\n"
   ]
  },
  {
   "cell_type": "code",
   "execution_count": null,
   "id": "bca465b1",
   "metadata": {},
   "outputs": [],
   "source": [
    "import requests\n",
    "from io import StringIO"
   ]
  },
  {
   "cell_type": "code",
   "execution_count": null,
   "id": "73505024",
   "metadata": {},
   "outputs": [],
   "source": [
    "# Map of Understat team titles to ClubElo API names\n",
    "final_team_name_map = {\n",
    "    'Manchester City': 'ManCity',\n",
    "    'Manchester United': 'ManUnited',\n",
    "    'Wolverhampton Wanderers': 'Wolves',\n",
    "    'West Bromwich Albion': 'WestBrom',\n",
    "    'Newcastle United': 'Newcastle',\n",
    "    'Sheffield United': 'SheffieldUnited',\n",
    "    'Nottingham Forest': 'Forest',\n",
    "    'Burnley': 'Burnley',\n",
    "    'Brighton & Hove Albion': 'Brighton',\n",
    "}\n",
    "\n",
    "clubelo_data = {}\n",
    "error_log = []\n",
    "\n",
    "# Function to fetch data with retries\n",
    "def fetch_clubelo_data(api_title, max_retries=3, backoff_factor=1.0):\n",
    "    for attempt in range(max_retries):\n",
    "        try:\n",
    "            url = f\"http://api.clubelo.com/{api_title}\"\n",
    "            response = requests.get(url, timeout=10)\n",
    "            response.raise_for_status()\n",
    "\n",
    "            if not response.text.strip():\n",
    "                raise ValueError(\"Empty response body\")\n",
    "\n",
    "            df = pd.read_csv(StringIO(response.text))\n",
    "            if df.empty:\n",
    "                raise ValueError(\"DataFrame is empty\")\n",
    "\n",
    "            return df\n",
    "\n",
    "        except Exception as e:\n",
    "            if attempt < max_retries - 1:\n",
    "                wait = backoff_factor * (2 ** attempt)\n",
    "                time.sleep(wait)\n",
    "            else:\n",
    "                raise e\n",
    "\n",
    "# Main data retrieval loop\n",
    "for team_name in unique_h_titles:\n",
    "    api_name = final_team_name_map.get(team_name, team_name.replace(\" \", \"\"))\n",
    "\n",
    "    try:\n",
    "        df = fetch_clubelo_data(api_name)\n",
    "        clubelo_data[team_name] = df\n",
    "        print(f\"Successfully retrieved data for: {team_name} (API: {api_name})\")\n",
    "    except Exception as e:\n",
    "        error_log.append((team_name, api_name, str(e)))\n",
    "        print(f\"Failed to retrieve data for: {team_name} (API: {api_name}) — {e}\")\n",
    "\n",
    "# Save successfully retrieved data\n",
    "if clubelo_data:\n",
    "    all_data_df = pd.concat(\n",
    "        clubelo_data.values(),\n",
    "        keys=clubelo_data.keys(),\n",
    "        names=['team', 'row']\n",
    "    ).reset_index(level=0)\n",
    "    all_data_df.to_csv('clubelo_all_teams.csv', index=False)\n",
    "    print(\"Saved all ClubElo data to clubelo_all_teams.csv\")\n",
    "else:\n",
    "    print(\"No ClubElo data to save.\")\n",
    "\n",
    "# Save error log\n",
    "if error_log:\n",
    "    error_df = pd.DataFrame(error_log, columns=[\"Team\", \"API_Name\", \"Error\"])\n",
    "    error_df.to_csv(\"clubelo_errors.csv\", index=False)\n",
    "    print(\"Saved error log to clubelo_errors.csv\")\n",
    "else:\n",
    "    print(\"No errors encountered.\")"
   ]
  },
  {
   "cell_type": "code",
   "execution_count": null,
   "id": "2cf76ac7",
   "metadata": {},
   "outputs": [],
   "source": [
    "# Print a unique list of team titles in the combined clubelo DataFrame\n",
    "unique_elo_titles = all_clubelo_df['team'].unique().tolist()\n",
    "print('Unique team titles in clubelo DataFrame:', unique_elo_titles)\n",
    "\n",
    "# drop all rows wher all_clubelo_df'To' column is before 2015\n",
    "all_clubelo_df = all_clubelo_df[all_clubelo_df['To'] >= '2015-01-01']"
   ]
  },
  {
   "cell_type": "code",
   "execution_count": null,
   "id": "563a6861",
   "metadata": {},
   "outputs": [],
   "source": [
    "# Save df_matches and all_clubelo_df to CSVs in the data/raw directory\n",
    "df_matches.to_csv('/workspaces/ml-prem-cash-machine/data/raw/understat_matches.csv', index=False)\n",
    "df_summary.to_csv('/workspaces/ml-prem-cash-machine/data/raw/understat_teamseasons.csv', index=False)\n",
    "all_clubelo_df.to_csv('/workspaces/ml-prem-cash-machine/data/raw/clubelo_all_teams.csv', index=False)\n"
   ]
  }
 ],
 "metadata": {
  "kernelspec": {
   "display_name": "Python 3 (ipykernel)",
   "language": "python",
   "name": "python3"
  },
  "language_info": {
   "codemirror_mode": {
    "name": "ipython",
    "version": 3
   },
   "file_extension": ".py",
   "mimetype": "text/x-python",
   "name": "python",
   "nbconvert_exporter": "python",
   "pygments_lexer": "ipython3",
   "version": "3.11.13"
  }
 },
 "nbformat": 4,
 "nbformat_minor": 5
}
