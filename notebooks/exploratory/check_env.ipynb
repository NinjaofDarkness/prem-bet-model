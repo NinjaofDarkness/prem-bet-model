{
 "cells": [
  {
   "cell_type": "code",
   "execution_count": 3,
   "id": "7b30cca6",
   "metadata": {},
   "outputs": [
    {
     "name": "stdout",
     "output_type": "stream",
     "text": [
      "✅ Dev Container Jupyter Notebook is running!\n",
      "Python version: 3.13.5 (main, Jul  1 2025, 02:43:57) [GCC 12.2.0]\n"
     ]
    }
   ],
   "source": [
    "# Cell 1: Print Hello and environment basic info\n",
    "print(\"✅ Dev Container Jupyter Notebook is running!\")\n",
    "\n",
    "import sys\n",
    "print(\"Python version:\", sys.version)\n"
   ]
  },
  {
   "cell_type": "code",
   "execution_count": 4,
   "id": "1afa4a0a",
   "metadata": {},
   "outputs": [
    {
     "data": {
      "text/html": [
       "<div>\n",
       "<style scoped>\n",
       "    .dataframe tbody tr th:only-of-type {\n",
       "        vertical-align: middle;\n",
       "    }\n",
       "\n",
       "    .dataframe tbody tr th {\n",
       "        vertical-align: top;\n",
       "    }\n",
       "\n",
       "    .dataframe thead th {\n",
       "        text-align: right;\n",
       "    }\n",
       "</style>\n",
       "<table border=\"1\" class=\"dataframe\">\n",
       "  <thead>\n",
       "    <tr style=\"text-align: right;\">\n",
       "      <th></th>\n",
       "      <th>A</th>\n",
       "      <th>B</th>\n",
       "      <th>C</th>\n",
       "    </tr>\n",
       "  </thead>\n",
       "  <tbody>\n",
       "    <tr>\n",
       "      <th>0</th>\n",
       "      <td>0.600947</td>\n",
       "      <td>0.119450</td>\n",
       "      <td>0.805262</td>\n",
       "    </tr>\n",
       "    <tr>\n",
       "      <th>1</th>\n",
       "      <td>0.455746</td>\n",
       "      <td>0.268449</td>\n",
       "      <td>0.803895</td>\n",
       "    </tr>\n",
       "    <tr>\n",
       "      <th>2</th>\n",
       "      <td>0.181669</td>\n",
       "      <td>0.828674</td>\n",
       "      <td>0.592438</td>\n",
       "    </tr>\n",
       "    <tr>\n",
       "      <th>3</th>\n",
       "      <td>0.857955</td>\n",
       "      <td>0.410808</td>\n",
       "      <td>0.271005</td>\n",
       "    </tr>\n",
       "    <tr>\n",
       "      <th>4</th>\n",
       "      <td>0.394960</td>\n",
       "      <td>0.336079</td>\n",
       "      <td>0.056632</td>\n",
       "    </tr>\n",
       "  </tbody>\n",
       "</table>\n",
       "</div>"
      ],
      "text/plain": [
       "          A         B         C\n",
       "0  0.600947  0.119450  0.805262\n",
       "1  0.455746  0.268449  0.803895\n",
       "2  0.181669  0.828674  0.592438\n",
       "3  0.857955  0.410808  0.271005\n",
       "4  0.394960  0.336079  0.056632"
      ]
     },
     "execution_count": 4,
     "metadata": {},
     "output_type": "execute_result"
    }
   ],
   "source": [
    "# Cell 2: Test core libraries\n",
    "import pandas as pd\n",
    "import numpy as np\n",
    "\n",
    "df = pd.DataFrame(np.random.rand(5, 3), columns=[\"A\", \"B\", \"C\"])\n",
    "df\n"
   ]
  }
 ],
 "metadata": {
  "kernelspec": {
   "display_name": "Python 3",
   "language": "python",
   "name": "python3"
  },
  "language_info": {
   "codemirror_mode": {
    "name": "ipython",
    "version": 3
   },
   "file_extension": ".py",
   "mimetype": "text/x-python",
   "name": "python",
   "nbconvert_exporter": "python",
   "pygments_lexer": "ipython3",
   "version": "3.13.5"
  }
 },
 "nbformat": 4,
 "nbformat_minor": 5
}
