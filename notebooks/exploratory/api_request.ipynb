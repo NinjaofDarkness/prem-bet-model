{
 "cells": [
  {
   "cell_type": "code",
   "execution_count": null,
   "id": "bcf4ee37",
   "metadata": {},
   "outputs": [],
   "source": [
    "import pandas as pd\n",
    "import ast\n",
    "from understatapi import UnderstatClient"
   ]
  },
  {
   "cell_type": "code",
   "execution_count": 2,
   "id": "d8b1b34f",
   "metadata": {},
   "outputs": [
    {
     "name": "stdout",
     "output_type": "stream",
     "text": [
      "Fetching EPL data from 2015 to 2024\n",
      "Total seasons: 10\n"
     ]
    }
   ],
   "source": [
    "# Configuration parameters\n",
    "START_YEAR = 2015\n",
    "END_YEAR = 2024\n",
    "\n",
    "print(f\"Fetching EPL data from {START_YEAR} to {END_YEAR}\")\n",
    "print(f\"Total seasons: {END_YEAR - START_YEAR + 1}\")"
   ]
  },
  {
   "cell_type": "code",
   "execution_count": null,
   "id": "daf9b197",
   "metadata": {},
   "outputs": [
    {
     "name": "stdout",
     "output_type": "stream",
     "text": [
      "Understat client initialized\n"
     ]
    }
   ],
   "source": [
    "# Initialize Understat client\n",
    "client = UnderstatClient()"
   ]
  },
  {
   "cell_type": "code",
   "execution_count": 4,
   "id": "4ea5d56f",
   "metadata": {},
   "outputs": [],
   "source": [
    "# Initialize lists to store data\n",
    "match_data_all = []\n",
    "team_data_all = []"
   ]
  },
  {
   "cell_type": "code",
   "execution_count": null,
   "id": "4666bc86",
   "metadata": {},
   "outputs": [
    {
     "name": "stdout",
     "output_type": "stream",
     "text": [
      "   id  isResult             datetime  season h_id            h_title  \\\n",
      "0  81      True  2015-08-08 15:45:00    2015   89  Manchester United   \n",
      "1  82      True  2015-08-08 18:00:00    2015   73        Bournemouth   \n",
      "2  83      True  2015-08-08 18:00:00    2015   72            Everton   \n",
      "3  84      True  2015-08-08 18:00:00    2015   75          Leicester   \n",
      "4  85      True  2015-08-08 18:00:00    2015   79            Norwich   \n",
      "\n",
      "  h_short_title a_id         a_title a_short_title goals_h goals_a      xG_h  \\\n",
      "0           MUN   82       Tottenham           TOT       1       0  0.627539   \n",
      "1           BOU   71     Aston Villa           AVL       0       1  0.876106   \n",
      "2           EVE   90         Watford           WAT       2       2  0.604226   \n",
      "3           LEI   77      Sunderland           SUN       4       2   2.56803   \n",
      "4           NOR   78  Crystal Palace           CRY       1       3   1.13076   \n",
      "\n",
      "       xG_a forecast_w forecast_d forecast_l  \n",
      "0    0.6746     0.2859     0.3905     0.3236  \n",
      "1  0.782253     0.3435     0.3607     0.2958  \n",
      "2  0.557892     0.2988     0.4337     0.2675  \n",
      "3   1.45946     0.6422     0.2057     0.1521  \n",
      "4   2.10975     0.1461     0.2159      0.638  \n"
     ]
    }
   ],
   "source": [
    "# Fetch match data for each season\n",
    "for year in range(START_YEAR, END_YEAR + 1):\n",
    "    try:\n",
    "        # Fetch match data for the season\n",
    "        match_data = client.league('EPL').get_match_data(season=str(year))\n",
    "        \n",
    "        # Add season info to each match\n",
    "        for match in match_data:\n",
    "            match['season'] = year\n",
    "        \n",
    "        # Add to overall collection\n",
    "        match_data_all.extend(match_data)\n",
    "        \n",
    "    except Exception as e:\n",
    "        print(f\"   Error fetching match data for {year}: {e}\")\n",
    "        continue\n",
    "\n",
    "df_matches = pd.json_normalize(match_data_all, sep='_')\n",
    "print(df_matches.head())"
   ]
  },
  {
   "cell_type": "code",
   "execution_count": null,
   "id": "28127245",
   "metadata": {},
   "outputs": [
    {
     "name": "stdout",
     "output_type": "stream",
     "text": [
      "   id        title                                            history  season  \\\n",
      "0  71  Aston Villa  [{'h_a': 'a', 'xG': 0.782253, 'xGA': 0.876106,...    2015   \n",
      "1  72      Everton  [{'h_a': 'h', 'xG': 0.604226, 'xGA': 0.557892,...    2015   \n",
      "2  73  Bournemouth  [{'h_a': 'h', 'xG': 0.876106, 'xGA': 0.782253,...    2015   \n",
      "3  74  Southampton  [{'h_a': 'a', 'xG': 1.2529, 'xGA': 1.54613, 'n...    2015   \n",
      "4  75    Leicester  [{'h_a': 'h', 'xG': 2.56803, 'xGA': 1.45946, '...    2015   \n",
      "\n",
      "  team_name  \n",
      "0        71  \n",
      "1        72  \n",
      "2        73  \n",
      "3        74  \n",
      "4        75  \n"
     ]
    }
   ],
   "source": [
    "# Fetch team data for each season\n",
    "for year in range(START_YEAR, END_YEAR + 1):\n",
    "    \n",
    "    try:\n",
    "        # Fetch team data for the season\n",
    "        team_data = client.league('EPL').get_team_data(season=str(year))\n",
    "        \n",
    "        # Process team data\n",
    "        for team_name, stats in team_data.items():\n",
    "            stats['season'] = year\n",
    "            stats['team_name'] = team_name\n",
    "            team_data_all.append(stats)\n",
    "        \n",
    "    except Exception as e:\n",
    "        print(f\"   Error fetching team data for {year}: {e}\")\n",
    "        continue\n",
    "\n",
    "df_teams = pd.DataFrame(team_data_all)\n",
    "print(df_teams.head())"
   ]
  }
 ],
 "metadata": {
  "kernelspec": {
   "display_name": "Python 3 (ipykernel)",
   "language": "python",
   "name": "python3"
  },
  "language_info": {
   "codemirror_mode": {
    "name": "ipython",
    "version": 3
   },
   "file_extension": ".py",
   "mimetype": "text/x-python",
   "name": "python",
   "nbconvert_exporter": "python",
   "pygments_lexer": "ipython3",
   "version": "3.11.13"
  }
 },
 "nbformat": 4,
 "nbformat_minor": 5
}
